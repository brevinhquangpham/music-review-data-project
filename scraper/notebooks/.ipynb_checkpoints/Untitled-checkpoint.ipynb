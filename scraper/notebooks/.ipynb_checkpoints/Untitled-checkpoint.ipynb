{
 "cells": [
  {
   "cell_type": "code",
   "execution_count": 9,
   "id": "07246306-0c59-4467-b5d7-8e96e3e9277a",
   "metadata": {},
   "outputs": [],
   "source": [
    "import pandas as pd\n",
    "import matplotlib.pyplot as plt"
   ]
  },
  {
   "cell_type": "code",
   "execution_count": null,
   "id": "07f1963e-0fd5-4bc2-8e84-22f829c0cc79",
   "metadata": {},
   "outputs": [],
   "source": [
    "df = pd.read_csv('../combined_data.csv')\n",
    "print(df.head())\n",
    "albums = df['Album_Name']\n",
    "ratings = df['Average_Rating']\n",
    "print(albums.head())\n",
    "plt.figure(figsize=(10, 6))\n",
    "plt.scatter(range(len(albums)), ratings, alpha=0.5)  # Use a range for x-axis if album names are not directly used\n",
    "plt.title('Album Ratings')\n",
    "plt.xlabel('Album Index')\n",
    "plt.ylabel('Rating')\n",
    "plt.xticks(range(len(albums)), albums, rotation='vertical')  # Optional: Label x-ticks with album names, if suitable\n",
    "plt.show()"
   ]
  },
  {
   "cell_type": "code",
   "execution_count": null,
   "id": "aee899c7-65c9-4437-bff0-578cd936e354",
   "metadata": {},
   "outputs": [],
   "source": []
  }
 ],
 "metadata": {
  "kernelspec": {
   "display_name": "Python 3 (ipykernel)",
   "language": "python",
   "name": "python3"
  },
  "language_info": {
   "codemirror_mode": {
    "name": "ipython",
    "version": 3
   },
   "file_extension": ".py",
   "mimetype": "text/x-python",
   "name": "python",
   "nbconvert_exporter": "python",
   "pygments_lexer": "ipython3",
   "version": "3.11.6"
  }
 },
 "nbformat": 4,
 "nbformat_minor": 5
}
